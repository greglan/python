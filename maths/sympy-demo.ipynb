{
 "cells": [
  {
   "cell_type": "markdown",
   "metadata": {},
   "source": [
    "# Introduction\n",
    "\n",
    "This notebook gives examples of operations that can be performed using the **Sympy** module. The documentation can be found [here](https://docs.sympy.org/latest/index.html)"
   ]
  },
  {
   "cell_type": "code",
   "execution_count": 1,
   "metadata": {
    "pycharm": {
     "is_executing": false
    }
   },
   "outputs": [],
   "source": [
    "from sympy import *"
   ]
  },
  {
   "cell_type": "code",
   "execution_count": 2,
   "metadata": {
    "pycharm": {
     "is_executing": false
    }
   },
   "outputs": [],
   "source": [
    "init_printing()  # Init pretty print as default\n",
    "\n",
    "X = symbols('X') # Use for polynomials variables\n",
    "x = symbols('x') # Declare new variable\n",
    "y = symbols('y')\n",
    "a = symbols('a', commutative=False)\n",
    "b = symbols('b', commutative=False) "
   ]
  },
  {
   "cell_type": "markdown",
   "metadata": {},
   "source": [
    "# Equations"
   ]
  },
  {
   "cell_type": "markdown",
   "metadata": {},
   "source": [
    "Solve system $$\\begin{cases} x + 5y -2 = 0 \\\\ -3x + 6y - 15 = 0 \\end{cases}$$"
   ]
  },
  {
   "cell_type": "code",
   "execution_count": 3,
   "metadata": {
    "pycharm": {
     "is_executing": false
    }
   },
   "outputs": [
    {
     "data": {
      "text/plain": "{x: -3, y: 1}",
      "image/png": "[encoded data removed]",
      "text/latex": "$\\displaystyle \\left\\{ x : -3, \\  y : 1\\right\\}$"
     },
     "metadata": {},
     "output_type": "execute_result",
     "execution_count": 3
    }
   ],
   "source": [
    "solve([x + 5*y - 2, -3*x + 6*y - 15], [x, y])"
   ]
  },
  {
   "cell_type": "markdown",
   "metadata": {},
   "source": [
    "# Integration"
   ]
  },
  {
   "cell_type": "code",
   "execution_count": 4,
   "metadata": {},
   "outputs": [
    {
     "data": {
      "image/png": "[encoded data removed]",
      "text/latex": [
       "$\\displaystyle \\frac{x^{3}}{3} + \\frac{x^{2}}{2} + x$"
      ],
      "text/plain": [
       " 3    2    \n",
       "x    x     \n",
       "── + ── + x\n",
       "3    2     "
      ]
     },
     "execution_count": 4,
     "metadata": {},
     "output_type": "execute_result"
    }
   ],
   "source": [
    "integrate(x ** 2 + x + 1, x)  # Give the primitive"
   ]
  },
  {
   "cell_type": "code",
   "execution_count": 5,
   "metadata": {},
   "outputs": [
    {
     "data": {
      "image/png": "[encoded data removed]",
      "text/latex": [
       "$\\displaystyle \\frac{11}{6}$"
      ],
      "text/plain": [
       "11/6"
      ]
     },
     "execution_count": 5,
     "metadata": {},
     "output_type": "execute_result"
    }
   ],
   "source": [
    "integrate(x ** 2 + x + 1, (x, 0, 1))  # Give the value of the integral"
   ]
  },
  {
   "cell_type": "markdown",
   "metadata": {},
   "source": [
    "# Matrix\n",
    "The reference is [here](http://docs.sympy.org/latest/modules/matrices/matrices.html). See also this [tutorial](https://docs.sympy.org/latest/tutorial/matrices.html) for a quick introduction.\n",
    "\n",
    "**Basics**:"
   ]
  },
  {
   "cell_type": "code",
   "execution_count": 6,
   "metadata": {},
   "outputs": [],
   "source": [
    "n, m = 3, 4 # Used later for some matrices"
   ]
  },
  {
   "cell_type": "code",
   "execution_count": 7,
   "metadata": {},
   "outputs": [
    {
     "data": {
      "image/png": "[encoded data removed]",
      "text/latex": [
       "$\\displaystyle \\left[\\begin{matrix}0\\\\1\\\\b\\\\a\\end{matrix}\\right]$"
      ],
      "text/plain": [
       "⎡0⎤\n",
       "⎢ ⎥\n",
       "⎢1⎥\n",
       "⎢ ⎥\n",
       "⎢b⎥\n",
       "⎢ ⎥\n",
       "⎣a⎦"
      ]
     },
     "execution_count": 7,
     "metadata": {},
     "output_type": "execute_result"
    }
   ],
   "source": [
    "CNOT = Matrix([\n",
    "[1, 0, 0, 0],\n",
    "[0, 1, 0, 0],\n",
    "[0, 0, 0, 1],\n",
    "[0, 0, 1, 0]\n",
    "])\n",
    "\n",
    "CNOT * Matrix([0, 1, a, b])"
   ]
  },
  {
   "cell_type": "markdown",
   "metadata": {},
   "source": [
    "**Special matrices**:"
   ]
  },
  {
   "cell_type": "code",
   "execution_count": 8,
   "metadata": {},
   "outputs": [
    {
     "data": {
      "image/png": "[encoded data removed]",
      "text/latex": [
       "$\\displaystyle \\left[\\begin{matrix}1 & 0 & 0\\\\0 & 1 & 0\\\\0 & 0 & 1\\end{matrix}\\right]$"
      ],
      "text/plain": [
       "⎡1  0  0⎤\n",
       "⎢       ⎥\n",
       "⎢0  1  0⎥\n",
       "⎢       ⎥\n",
       "⎣0  0  1⎦"
      ]
     },
     "execution_count": 8,
     "metadata": {},
     "output_type": "execute_result"
    }
   ],
   "source": [
    "I_3 = eye(n) # Identity matrix\n",
    "I_3"
   ]
  },
  {
   "cell_type": "code",
   "execution_count": 9,
   "metadata": {},
   "outputs": [
    {
     "data": {
      "image/png": "[encoded data removed]",
      "text/latex": [
       "$\\displaystyle \\left( \\left[\\begin{matrix}0 & 0 & 0\\\\0 & 0 & 0\\end{matrix}\\right], \\  \\left[\\begin{matrix}0 & 0 & 0\\\\0 & 0 & 0\\\\0 & 0 & 0\\end{matrix}\\right]\\right)$"
      ],
      "text/plain": [
       "⎛           ⎡0  0  0⎤⎞\n",
       "⎜⎡0  0  0⎤  ⎢       ⎥⎟\n",
       "⎜⎢       ⎥, ⎢0  0  0⎥⎟\n",
       "⎜⎣0  0  0⎦  ⎢       ⎥⎟\n",
       "⎝           ⎣0  0  0⎦⎠"
      ]
     },
     "execution_count": 9,
     "metadata": {},
     "output_type": "execute_result"
    }
   ],
   "source": [
    "M, M2 = zeros(2, 3), zeros(n) # Zero matrix\n",
    "M, M2"
   ]
  },
  {
   "cell_type": "code",
   "execution_count": 10,
   "metadata": {},
   "outputs": [
    {
     "data": {
      "image/png": "[encoded data removed]",
      "text/latex": [
       "$\\displaystyle \\left( \\left[\\begin{matrix}1 & 1\\end{matrix}\\right], \\  \\left[\\begin{matrix}1 & 1 & 1\\\\1 & 1 & 1\\\\1 & 1 & 1\\end{matrix}\\right]\\right)$"
      ],
      "text/plain": [
       "⎛        ⎡1  1  1⎤⎞\n",
       "⎜        ⎢       ⎥⎟\n",
       "⎜[1  1], ⎢1  1  1⎥⎟\n",
       "⎜        ⎢       ⎥⎟\n",
       "⎝        ⎣1  1  1⎦⎠"
      ]
     },
     "execution_count": 10,
     "metadata": {},
     "output_type": "execute_result"
    }
   ],
   "source": [
    "M, M2 = ones(1, 2), ones(n) # Matrix of ones\n",
    "M, M2"
   ]
  },
  {
   "cell_type": "markdown",
   "metadata": {},
   "source": [
    "# Reduction "
   ]
  },
  {
   "cell_type": "code",
   "execution_count": 11,
   "metadata": {},
   "outputs": [
    {
     "data": {
      "image/png": "[encoded data removed]",
      "text/latex": [
       "$\\displaystyle \\left[\\begin{matrix}1 & 1\\\\1 & 1\\end{matrix}\\right]$"
      ],
      "text/plain": [
       "⎡1  1⎤\n",
       "⎢    ⎥\n",
       "⎣1  1⎦"
      ]
     },
     "execution_count": 11,
     "metadata": {},
     "output_type": "execute_result"
    }
   ],
   "source": [
    "M = Matrix([[1, 1], [1, 1]])\n",
    "M"
   ]
  },
  {
   "cell_type": "code",
   "execution_count": 12,
   "metadata": {},
   "outputs": [
    {
     "data": {
      "image/png": "[encoded data removed]",
      "text/latex": [
       "$\\displaystyle \\left( \\left[\\begin{matrix}-1 & 1\\\\1 & 1\\end{matrix}\\right], \\  \\left[\\begin{matrix}0 & 0\\\\0 & 2\\end{matrix}\\right]\\right)$"
      ],
      "text/plain": [
       "⎛⎡-1  1⎤  ⎡0  0⎤⎞\n",
       "⎜⎢     ⎥, ⎢    ⎥⎟\n",
       "⎝⎣1   1⎦  ⎣0  2⎦⎠"
      ]
     },
     "execution_count": 12,
     "metadata": {},
     "output_type": "execute_result"
    }
   ],
   "source": [
    "P, D = M.diagonalize()\n",
    "P, D"
   ]
  },
  {
   "cell_type": "code",
   "execution_count": 13,
   "metadata": {},
   "outputs": [
    {
     "data": {
      "image/png": "[encoded data removed]",
      "text/latex": [
       "$\\displaystyle \\left[\\begin{matrix}1 & 1\\\\1 & 1\\end{matrix}\\right]$"
      ],
      "text/plain": [
       "⎡1  1⎤\n",
       "⎢    ⎥\n",
       "⎣1  1⎦"
      ]
     },
     "execution_count": 13,
     "metadata": {},
     "output_type": "execute_result"
    }
   ],
   "source": [
    "P * D * P.inv()"
   ]
  },
  {
   "cell_type": "code",
   "execution_count": 14,
   "metadata": {},
   "outputs": [
    {
     "data": {
      "image/png": "[encoded data removed]",
      "text/latex": [
       "$\\displaystyle \\operatorname{PurePoly}{\\left( x^{2} - 2 x, x, domain=\\mathbb{Z} \\right)}$"
      ],
      "text/plain": [
       "PurePoly(x**2 - 2*x, x, domain='ZZ')"
      ]
     },
     "execution_count": 14,
     "metadata": {},
     "output_type": "execute_result"
    }
   ],
   "source": [
    "p = M.charpoly(x) # Characteristic polynomials using variable x\n",
    "p"
   ]
  },
  {
   "cell_type": "code",
   "execution_count": 25,
   "metadata": {},
   "outputs": [
    {
     "data": {
      "image/png": "[encoded data removed]",
      "text/latex": [
       "$\\displaystyle \\left( \\left\\{ 0 : 1, \\  2 : 1\\right\\}, \\  \\left[ \\left( 0, \\  1, \\  \\left[ \\left[\\begin{matrix}-1\\\\1\\end{matrix}\\right]\\right]\\right), \\  \\left( 2, \\  1, \\  \\left[ \\left[\\begin{matrix}1\\\\1\\end{matrix}\\right]\\right]\\right)\\right]\\right)$"
      ],
      "text/plain": [
       "⎛              ⎡⎛      ⎡⎡-1⎤⎤⎞  ⎛      ⎡⎡1⎤⎤⎞⎤⎞\n",
       "⎜{0: 1, 2: 1}, ⎢⎜0, 1, ⎢⎢  ⎥⎥⎟, ⎜2, 1, ⎢⎢ ⎥⎥⎟⎥⎟\n",
       "⎝              ⎣⎝      ⎣⎣1 ⎦⎦⎠  ⎝      ⎣⎣1⎦⎦⎠⎦⎠"
      ]
     },
     "execution_count": 25,
     "metadata": {},
     "output_type": "execute_result"
    }
   ],
   "source": [
    "M.eigenvals(), M.eigenvects()"
   ]
  },
  {
   "cell_type": "markdown",
   "metadata": {},
   "source": [
    "# Polynomials"
   ]
  },
  {
   "cell_type": "code",
   "execution_count": 16,
   "metadata": {},
   "outputs": [
    {
     "data": {
      "image/png": "[encoded data removed]",
      "text/latex": [
       "$\\displaystyle x \\left(x - 2\\right)$"
      ],
      "text/plain": [
       "x⋅(x - 2)"
      ]
     },
     "execution_count": 16,
     "metadata": {},
     "output_type": "execute_result"
    }
   ],
   "source": [
    "p.factor()"
   ]
  },
  {
   "cell_type": "markdown",
   "metadata": {},
   "source": [
    "# Tests"
   ]
  },
  {
   "cell_type": "code",
   "execution_count": 28,
   "metadata": {},
   "outputs": [
    {
     "data": {
      "image/png": "[encoded data removed]",
      "text/latex": [
       "$\\displaystyle \\left( \\left\\{ \\frac{1}{3} : 1, \\  \\frac{2}{3} : 1\\right\\}, \\  \\left[ \\left( \\frac{1}{3}, \\  1, \\  \\left[ \\left[\\begin{matrix}1\\\\1\\end{matrix}\\right]\\right]\\right), \\  \\left( \\frac{2}{3}, \\  1, \\  \\left[ \\left[\\begin{matrix}-1\\\\1\\end{matrix}\\right]\\right]\\right)\\right], \\  \\operatorname{PurePoly}{\\left( X^{2} - X + \\frac{2}{9}, X, domain=\\mathbb{Q} \\right)}\\right)$"
      ],
      "text/plain": [
       "⎛                  ⎡⎛        ⎡⎡1⎤⎤⎞  ⎛        ⎡⎡-1⎤⎤⎞⎤                        \n",
       "⎜{1/3: 1, 2/3: 1}, ⎢⎜1/3, 1, ⎢⎢ ⎥⎥⎟, ⎜2/3, 1, ⎢⎢  ⎥⎥⎟⎥, PurePoly(X**2 - X + 2/\n",
       "⎝                  ⎣⎝        ⎣⎣1⎦⎦⎠  ⎝        ⎣⎣1 ⎦⎦⎠⎦                        \n",
       "\n",
       "                  ⎞\n",
       "9, X, domain='QQ')⎟\n",
       "                  ⎠"
      ]
     },
     "execution_count": 28,
     "metadata": {},
     "output_type": "execute_result"
    }
   ],
   "source": [
    "rho = Matrix([\n",
    "    [Rational('1/2'), Rational('-1/6')],\n",
    "    [Rational('-1/6'), Rational('1/2')]\n",
    "])\n",
    "rho.eigenvals(), rho.eigenvects(), rho.charpoly(X)"
   ]
  },
  {
   "cell_type": "code",
   "execution_count": 29,
   "metadata": {},
   "outputs": [
    {
     "data": {
      "image/png": "[encoded data removed]",
      "text/latex": [
       "$\\displaystyle \\left[\\begin{matrix}\\frac{2}{3}\\\\- \\frac{2}{3}\\end{matrix}\\right]$"
      ],
      "text/plain": [
       "⎡2/3 ⎤\n",
       "⎢    ⎥\n",
       "⎣-2/3⎦"
      ]
     },
     "execution_count": 29,
     "metadata": {},
     "output_type": "execute_result"
    }
   ],
   "source": [
    "a = Matrix([1, -1])\n",
    "rho * a"
   ]
  }
 ],
 "metadata": {
  "kernelspec": {
   "display_name": "Python 3",
   "language": "python",
   "name": "python3"
  },
  "language_info": {
   "codemirror_mode": {
    "name": "ipython",
    "version": 3
   },
   "file_extension": ".py",
   "mimetype": "text/x-python",
   "name": "python",
   "nbconvert_exporter": "python",
   "pygments_lexer": "ipython3",
   "version": "3.7.4"
  }
 },
 "nbformat": 4,
 "nbformat_minor": 2
}