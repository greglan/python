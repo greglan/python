{
 "cells": [
  {
   "cell_type": "markdown",
   "metadata": {},
   "source": [
    "# Analysis of a quantum wave packet\n",
    "## Introduction\n",
    "This script studies the initialization of the wavepacket and its initial properties. In what follows we will consider an harmonic potential and the wave packet of an electron. We are interested in the following properties:\n",
    "* probability density\n",
    "* average position\n",
    "* momentum\n",
    "* kinetic energy\n",
    "* potential energy (for an harmonic potential)\n",
    "* total energy\n",
    "\n",
    "The first part is concerned with the theory. We manually calculate the physical quantities of interest and we use Sympy to check them. The second part provides an implementation using Numpy. The physical quantities are again computed but this time numerically. Finally, a comparison between the theory and the numerical results if performed."
   ]
  },
  {
   "cell_type": "code",
   "execution_count": 1,
   "metadata": {},
   "outputs": [],
   "source": [
    "import numpy as np\n",
    "import sympy as sp\n",
    "from sympy import simplify, factor\n",
    "sp.init_printing()  # Init pretty print as default"
   ]
  },
  {
   "cell_type": "markdown",
   "metadata": {},
   "source": [
    "## Theory\n",
    "### First properties\n",
    "We initialize the wavefunction with a wavepacket centered in $x_0$ spatially localized within $\\sigma$ of $x_0$ with an initial momentum $p_0$:\n",
    "\n",
    "\\begin{align}\n",
    "\\psi(x,t=0) = \\psi(x) = &\n",
    "\\frac{1}{(2\\pi)^{1/4} \\sqrt{\\sigma}}\n",
    "e^{- \\frac 1 2 \\frac{(x-x_0)^2}{2\\sigma^2}} \n",
    "e^{i p_0(x-x_0)/\\hbar} \\\\\n",
    "|\\psi|^2= &\n",
    "\\frac{1}{\\sigma \\sqrt{2 \\pi}}\n",
    "e^{- \\frac{(x-x_0)^2}{2\\sigma^2}}\n",
    "\\end{align}\n",
    "\n",
    "Notice that $|\\psi|^2$ is the expression of the probability density function (PDF) of a [normal distribution](https://en.wikipedia.org/wiki/Normal_distribution) $\\mathcal N (x_0, \\sigma^2)$, which will prove useful to compute integrals.\n",
    "\n",
    "We can first check that the wave packet is indeed normalized. This is also coherent with the fact that $|\\psi|^2$ is a PDF.\n",
    "\\begin{equation}\n",
    "\\int_\\mathbb{R} |\\psi|^2 dx = 1\n",
    "\\end{equation}\n",
    "\n",
    "Secondly, the average position is easily calculated, again thanks to the properties of the normal distribution:\n",
    "\\begin{equation}\n",
    "\\left\\langle x \\right\\rangle = \\int_\\mathbb{R} x |\\psi|^2 dx = x_0\n",
    "\\end{equation}\n",
    "\n",
    "### Momentum\n",
    "Let us now turn our attention to the average momentum. The associated observable is $\\hat{p} = \\frac{\\hbar}{i} \\frac{d}{dx}$. We can compute the following expressions:\n",
    "\n",
    "\\begin{align}\n",
    "\\frac{d\\psi}{dx} = & \\left(- \\frac{x-x_0}{2 \\sigma^2} + i \\frac{p_0}{\\hbar}\\right) \\psi\\\\\n",
    "= & \\left(i \\frac{p_0}{\\hbar} - \\frac{x-x_0}{2 \\sigma^2} \\right) \\psi\\\\\n",
    "\\frac{\\hbar}{i} \\frac{d}{dx} = & \\left(p_0 + i \\hbar \\frac{x-x_0}{2 \\sigma^2} \\right) \\psi\n",
    "\\end{align}\n",
    "\n",
    "Let us use sympy to check the result of the first derivative:"
   ]
  },
  {
   "cell_type": "code",
   "execution_count": 2,
   "metadata": {},
   "outputs": [],
   "source": [
    "# Define some symbols\n",
    "x, x0, sigma, hbar, m, w = sp.symbols('x x_0 sigma \\hbar m omega', real = True, positive = True)\n",
    "p0 = sp.symbols('p_0', real=True)\n",
    "pi = sp.pi\n",
    "i = sp.I\n",
    "\n",
    "psi = 1/((2*sp.pi)**sp.Rational(1,4) * sp.sqrt(sigma)) * sp.exp(-sp.Rational(1,2) * (x-x0)**2/(2*sigma**2)) * sp.exp(i*p0*(x-x0)/hbar)\n",
    "psi2 = sp.Abs(psi)**2\n",
    "\n",
    "dpsidx = simplify(sp.diff(psi, x))\n",
    "dpsidx_theory = psi*(i*p0/hbar - (x-x0)/(2*sigma**2))"
   ]
  },
  {
   "cell_type": "markdown",
   "metadata": {},
   "source": [
    "We can check that the expression derived previously are correct by looking at the difference of our expression and the one computed by sympy, and the result should be 0:"
   ]
  },
  {
   "cell_type": "code",
   "execution_count": 3,
   "metadata": {},
   "outputs": [
    {
     "data": {
      "image/png": "[encoded data removed]",
      "text/latex": [
       "$\\displaystyle 0$"
      ],
      "text/plain": [
       "0"
      ]
     },
     "execution_count": 3,
     "metadata": {},
     "output_type": "execute_result"
    }
   ],
   "source": [
    "simplify(dpsidx_theory-dpsidx)"
   ]
  },
  {
   "cell_type": "markdown",
   "metadata": {},
   "source": [
    "We can then compute the average momentum:\n",
    "\\begin{align}\n",
    "\\left\\langle p \\right\\rangle = & \\int_\\mathbb{R} \\psi^* \\frac{\\hbar} i \\frac{d\\psi}{dx} dx = \\int_\\mathbb{R} \\left(p_0 + i \\hbar \\frac{x-x_0}{2 \\sigma^2} \\right) |\\psi|^2 dx\\\\\n",
    "= & p_0 \\int_\\mathbb{R} |\\psi|^2 dx + \n",
    "\\frac{i \\hbar}{2 \\sigma} \\left( \\int_\\mathbb{R} x |\\psi|^2 dx - x_0 \\int_\\mathbb{R}|\\psi|^2 dx \\right) \\\\\n",
    "= & p_0 + \\frac{i \\hbar}{2 \\sigma} (x_0 - x_0 \\times 1) = p_0\n",
    "\\end{align}\n",
    "\n",
    "Below is the result from sympy for comparison:"
   ]
  },
  {
   "cell_type": "code",
   "execution_count": 4,
   "metadata": {},
   "outputs": [
    {
     "data": {
      "image/png": "[encoded data removed]",
      "text/latex": [
       "$\\displaystyle p_{0}$"
      ],
      "text/plain": [
       "p₀"
      ]
     },
     "execution_count": 4,
     "metadata": {},
     "output_type": "execute_result"
    }
   ],
   "source": [
    "sp.integrate(sp.conjugate(psi) * hbar/i * dpsidx, (x, -sp.oo, sp.oo))"
   ]
  },
  {
   "cell_type": "markdown",
   "metadata": {},
   "source": [
    "#### Kinetic energy\n",
    "We can then turn our attention to the kinetic energy. Since the observable is $\\hat{E_c} = \\frac{1}{2m} \\hat{p}^2 =  \\frac{-\\hbar^2}{2m} \\frac{d^2}{dx^2}$, we first need to compute the second derivative $\\frac{d^2\\psi}{dx^2}$. This is fairly easy since we know that $\\frac{d\\psi}{dx} = \\left(i \\frac{p_0}{\\hbar} - \\frac{x-x_0}{2 \\sigma^2} \\right) \\psi$:\n",
    "\n",
    "\\begin{align}\n",
    "\\frac{d^2\\psi}{dx^2} = & - \\frac{1}{2\\sigma^2} \\psi(x) + \\left(i \\frac{p_0}{\\hbar} - \\frac{x-x_0}{2 \\sigma^2} \\right) \\frac{d\\psi}{dx} \\\\\n",
    "= & - \\frac{1}{2\\sigma^2} \\psi(x) + \\left(i \\frac{p_0}{\\hbar} - \\frac{x-x_0}{2 \\sigma^2} \\right)^2 \\psi \\\\\n",
    "= &  \\left(- \\frac{1}{2\\sigma^2} - \\frac{p_0^2}{\\hbar^2} -2i \\frac{p_0}{\\hbar} \\frac{x-x_0}{2\\sigma^2} + \\left(\\frac{x-x_0}{2\\sigma^2} \\right)^2 \\right) \\psi(x)\\\\\n",
    "= & \\left(- \\left(\\frac{p_0^2}{\\hbar^2} + \\frac{1}{2\\sigma^2} \\right) + \\left(\\frac{x-x_0}{2\\sigma^2} \\right)^2 -2i \\frac{p_0}{\\hbar} \\frac{x-x_0}{2\\sigma^2} \\right) \\psi(x)\n",
    "\\end{align}\n",
    "\n",
    "Once again let us use sympy to check the result of the second derivative:"
   ]
  },
  {
   "cell_type": "code",
   "execution_count": 5,
   "metadata": {},
   "outputs": [
    {
     "data": {
      "image/png": "[encoded data removed]",
      "text/latex": [
       "$\\displaystyle 0$"
      ],
      "text/plain": [
       "0"
      ]
     },
     "execution_count": 5,
     "metadata": {},
     "output_type": "execute_result"
    }
   ],
   "source": [
    "d2psidx2 = simplify(sp.diff(dpsidx, x))\n",
    "d2psidx2_theory = psi * (-(p0**2/hbar**2 + 1 / (2*sigma**2)) + (x-x0)**2/(2*sigma**2)**2 -2*i*p0/hbar*(x-x0)/(2*sigma**2))\n",
    "simplify(d2psidx2_theory-d2psidx2)"
   ]
  },
  {
   "cell_type": "markdown",
   "metadata": {},
   "source": [
    "We are now in a position to compute the average kinetic energy:\n",
    "\n",
    "\\begin{align}\n",
    "\\left\\langle E_c \\right\\rangle\n",
    "= & \\frac{-\\hbar^2}{2m} \\int_\\mathbb{R} \\psi^* \\left(- \\left(\\frac{p_0^2}{\\hbar^2} + \\frac{1}{2\\sigma^2} \\right) + \\left(\\frac{x-x_0}{2\\sigma^2} \\right)^2 -2i \\frac{p_0}{\\hbar} \\frac{x-x_0}{2\\sigma^2} \\right) \\psi(x) dx \\\\\n",
    "= & \\frac{-\\hbar^2}{2m} \\int_\\mathbb{R} \\left(- \\left(\\frac{p_0^2}{\\hbar^2} + \\frac{1}{2\\sigma^2} \\right) + \\left(\\frac{x-x_0}{2\\sigma^2} \\right)^2 -2i \\frac{p_0}{\\hbar} \\frac{x-x_0}{2\\sigma^2} \\right) |\\psi(x)|^2 dx \\\\\n",
    "= & \\frac{\\hbar^2}{2m} \\left(\\frac{p_0^2}{\\hbar^2} + \\frac{1}{2\\sigma^2} \\right) \\int_\\mathbb{R} |\\psi(x)|^2 dx \n",
    "- \\frac{\\hbar^2}{2m} \\frac{1}{4 \\sigma^4} \\int_\\mathbb{R} \\left(x-x_0\\right)^2 |\\psi(x)|^2 dx \n",
    "+ \\frac{\\hbar^2}{2m} 2i \\frac{p_0}{\\hbar} \\frac{1}{2\\sigma^2} \\int_\\mathbb{R} \\left(x-x_0 \\right) |\\psi(x)|^2 dx\\\\\n",
    "= & \\left(\\frac{p_0^2}{2m} + \\frac{\\hbar^2}{2m} \\frac{1}{2\\sigma^2} \\right) \\int_\\mathbb{R} |\\psi(x)|^2 dx \n",
    "- \\frac{\\hbar^2}{2m} \\frac{1}{4 \\sigma^4} \\int_\\mathbb{R} \\left(x-x_0\\right)^2 |\\psi(x)|^2 dx \\\\\n",
    "= & \\frac{p_0^2}{2m} + \\frac{\\hbar^2}{2m} \\frac{1}{2\\sigma^2}\n",
    "- \\frac{\\hbar^2}{2m} \\frac{1}{4 \\sigma^4} \\sigma^2 \\\\\n",
    "= & \\frac{p_0^2}{2m} + \\frac{\\hbar^2}{2m} \\left( \\frac{1}{2\\sigma^2} - \\frac{1}{4 \\sigma^2}\\right) \\\\\n",
    "= & \\frac{p_0^2}{2m} + \\frac{\\hbar^2}{2m} \\frac{1}{4\\sigma^2}\n",
    "\\end{align}\n",
    "\n",
    "Let's see what sympy has to say:"
   ]
  },
  {
   "cell_type": "code",
   "execution_count": 6,
   "metadata": {},
   "outputs": [
    {
     "data": {
      "image/png": "[encoded data removed]",
      "text/latex": [
       "$\\displaystyle \\frac{\\hbar^{2}}{8 m \\sigma^{2}} + \\frac{p_{0}^{2}}{2 m}$"
      ],
      "text/plain": [
       "    2      2\n",
       " \\h̅     p₀ \n",
       "────── + ───\n",
       "     2   2⋅m\n",
       "8⋅m⋅σ       "
      ]
     },
     "execution_count": 6,
     "metadata": {},
     "output_type": "execute_result"
    }
   ],
   "source": [
    "sp.integrate(sp.conjugate(psi) * (-hbar**2/(2*m)) * d2psidx2, (x, -sp.oo, sp.oo))"
   ]
  },
  {
   "cell_type": "markdown",
   "metadata": {},
   "source": [
    "#### Potential energy\n",
    "Given an harmonic potential $V(x) = \\frac 1 2 m \\omega^2 (x-x_0)^2$ centered in $x_0$, the average potential energy is easy to find:\n",
    "\n",
    "\\begin{align}\n",
    "\\left\\langle V \\right\\rangle = & \\int_\\mathbb{R} \\psi^* V(x) \\psi dx \n",
    "= \\int_\\mathbb{R} \\psi^* \\frac 1 2 m \\omega^2 (x-x_0)^2 \\psi dx\\\\\n",
    "= & \\int_\\mathbb{R}\\frac 1 2 m \\omega^2 (x-x_0)^2 |\\psi|^2 dx \n",
    "= \\frac 1 2 m \\omega^2  \\int_\\mathbb{R}(x-x_0)^2 |\\psi|^2 dx\\\\\n",
    "= & \\frac 1 2 m \\omega^2 \\sigma^2\n",
    "\\end{align}\n",
    "\n",
    "Let's check with sympy:"
   ]
  },
  {
   "cell_type": "code",
   "execution_count": 7,
   "metadata": {},
   "outputs": [
    {
     "data": {
      "image/png": "[encoded data removed]",
      "text/latex": [
       "$\\displaystyle \\frac{m \\omega^{2} \\sigma^{2}}{2}$"
      ],
      "text/plain": [
       "   2  2\n",
       "m⋅ω ⋅σ \n",
       "───────\n",
       "   2   "
      ]
     },
     "execution_count": 7,
     "metadata": {},
     "output_type": "execute_result"
    }
   ],
   "source": [
    "V = sp.Rational(1,2) * m * w**2 * (x-x0)**2\n",
    "sp.integrate(sp.conjugate(psi) * V *psi, (x, -sp.oo, sp.oo))"
   ]
  },
  {
   "cell_type": "markdown",
   "metadata": {},
   "source": [
    "#### Total energy\n",
    "The total energy $\\mathcal E$ is the sum of the kinetic energy and the potential energy. Hence:\n",
    "\n",
    "\\begin{align}\n",
    "\\mathcal E = &\\left\\langle E_c \\right\\rangle + \\left\\langle V \\right\\rangle \\\\\n",
    "= & \\frac{p_0^2}{2m} + \\frac{\\hbar^2}{2m} \\frac{1}{4\\sigma^2} + \\frac 1 2 m \\omega^2 \\sigma^2\n",
    "\\end{align}"
   ]
  },
  {
   "cell_type": "markdown",
   "metadata": {},
   "source": [
    "## Implementation\n",
    "### Simulation parameters\n",
    "The settings below define the characteristics of the spatial grid used."
   ]
  },
  {
   "cell_type": "code",
   "execution_count": 8,
   "metadata": {},
   "outputs": [
    {
     "data": {
      "text/plain": [
       "1.00100100100100100176e-10"
      ]
     },
     "execution_count": 8,
     "metadata": {},
     "output_type": "execute_result"
    }
   ],
   "source": [
    "Nx = 1000                                          # Number of grid points\n",
    "x_start = 000e-9                                   # Position to start the computations from\n",
    "x_end = 100e-9                                     # Position at which to end the computations\n",
    "x = np.linspace(x_start,x_end,Nx, dtype=\"float128\") # Position vector\n",
    "dx = x[2] - x[1]                                   # Spatial precision\n",
    "dx"
   ]
  },
  {
   "cell_type": "markdown",
   "metadata": {},
   "source": [
    "### Physical constants\n",
    "We choose to study the behavior of an electron for instance in silicon. Hence we use its effective mass instead of the normal mass."
   ]
  },
  {
   "cell_type": "code",
   "execution_count": 9,
   "metadata": {},
   "outputs": [],
   "source": [
    "me = 9.10938291e-31    # Electron mass\n",
    "meff = 0.19*me          # Electron effective mass\n",
    "m = meff\n",
    "\n",
    "hbar = 1.054571726e-34 # Reduced Planck's constant\n",
    "e = 1.602176565e-19    # Elementary charge\n",
    "h = hbar*2*np.pi       # Planck's constant"
   ]
  },
  {
   "cell_type": "markdown",
   "metadata": {},
   "source": [
    "### Potential characteristic\n",
    "We assume an harmonic potential with a level spacing of $\\Delta E = 10$ meV. The energy levels of an harmonic oscillator are given by $E_n = \\left(n + \\frac 1 2 \\right) \\hbar \\omega$, so the level spacing is $\\Delta E = \\hbar \\omega$, which gives us the value of the parameter $\\omega$ to use. Note the $e$ factor when defining `omega` to convert `deltaE` in Joules."
   ]
  },
  {
   "cell_type": "code",
   "execution_count": 10,
   "metadata": {},
   "outputs": [],
   "source": [
    "deltaE = 10e-3            # Level spacing of the QD (eV)\n",
    "omega = e*deltaE / hbar   # s^-1"
   ]
  },
  {
   "cell_type": "markdown",
   "metadata": {},
   "source": [
    "Now that $\\omega$ is defined, we can compute the energy levels, for instance $E_0 = \\frac{\\hbar \\omega}{2}$:"
   ]
  },
  {
   "cell_type": "code",
   "execution_count": 11,
   "metadata": {},
   "outputs": [
    {
     "data": {
      "image/png": "[encoded data removed]",
      "text/latex": [
       "$\\displaystyle 8.010882825e-22$"
      ],
      "text/plain": [
       "8.010882825e-22"
      ]
     },
     "execution_count": 11,
     "metadata": {},
     "output_type": "execute_result"
    }
   ],
   "source": [
    "E_0 = hbar*omega/2\n",
    "E_0"
   ]
  },
  {
   "cell_type": "markdown",
   "metadata": {},
   "source": [
    "Which converted in meV gives:"
   ]
  },
  {
   "cell_type": "code",
   "execution_count": 12,
   "metadata": {},
   "outputs": [
    {
     "data": {
      "image/png": "[encoded data removed]",
      "text/latex": [
       "$\\displaystyle 5.0$"
      ],
      "text/plain": [
       "5.0"
      ]
     },
     "execution_count": 12,
     "metadata": {},
     "output_type": "execute_result"
    }
   ],
   "source": [
    "E_0 / e * 1e3"
   ]
  },
  {
   "cell_type": "markdown",
   "metadata": {},
   "source": [
    "### Wave packet initialization\n",
    "The code below defines the center $x_0$ of the wave packet and its spatial width."
   ]
  },
  {
   "cell_type": "code",
   "execution_count": 13,
   "metadata": {},
   "outputs": [],
   "source": [
    "x0 = 25e-9                                                        # Position of the center\n",
    "sigma = 10e-9                                                     # Width of the Gaussian"
   ]
  },
  {
   "cell_type": "markdown",
   "metadata": {},
   "source": [
    "How to choose the value of the momentum ? We can try setting the speed of the wave packet $v$ which then determines the momentum as $p = mv$. However, let us try to find the momentum such that the energy of the wave packet is exactly that of the ground state of the harmonic oscillator $E_0$. \n",
    "\n",
    "From the previous section, the total energy of the wave packet is $\\mathcal E = \\left\\langle E_c \\right\\rangle + \\left\\langle V \\right\\rangle$ which depends on $p_0$. We can inverse that relation to get $p_0$:\n",
    "\n",
    "\\begin{align}\n",
    "\\mathcal E = & \\frac{p_0^2}{2m} + \\frac{\\hbar^2}{2m} \\frac{1}{4\\sigma^2} + \\frac 1 2 m \\omega^2 \\sigma^2 \\\\\n",
    "2m \\mathcal E = & p_0^2 + \\frac{\\hbar^2}{4\\sigma^2} + m^2 \\omega^2 \\sigma^2 \\\\\n",
    "p_0^2 = & 2m \\mathcal E - \\frac{\\hbar^2}{4\\sigma^2} - m^2 \\omega^2 \\sigma^2\n",
    "\\end{align}\n",
    "\n",
    "For $\\mathcal E = E_0= \\frac{\\hbar \\omega}{2}$, we get:\n",
    "\n",
    "\\begin{align}\n",
    "p_0^2 = & 2m \\frac{\\hbar \\omega}{2} - \\frac{\\hbar^2}{4\\sigma^2} - m^2 \\omega^2 \\sigma^2\\\\\n",
    "p_0^2 = & m \\hbar \\omega - \\frac{\\hbar^2}{4\\sigma^2} - m^2 \\omega^2 \\sigma^2\\\\\n",
    "\\end{align}\n",
    "\n",
    "When is this quantity positive ? Let's look at each term:"
   ]
  },
  {
   "cell_type": "code",
   "execution_count": 14,
   "metadata": {},
   "outputs": [
    {
     "data": {
      "image/png": "[encoded data removed]",
      "text/latex": [
       "$\\displaystyle \\left( 2.7730195658025655e-52, \\  2.780303813196547e-53, \\  6.914386006868602e-52\\right)$"
      ],
      "text/plain": [
       "(2.7730195658025655e-52, 2.780303813196547e-53, 6.914386006868602e-52)"
      ]
     },
     "execution_count": 14,
     "metadata": {},
     "output_type": "execute_result"
    }
   ],
   "source": [
    "m*hbar*omega, hbar**2/(4*sigma**2), m**2 * omega**2 * sigma**2"
   ]
  },
  {
   "cell_type": "markdown",
   "metadata": {},
   "source": [
    "We conclude that with our choice of parameters $\\omega$ and $\\sigma$, the momentum is not real. Let us see what values are better visually. We will draw the surface of equation $p_0^2$ with $\\omega$ and $\\sigma$ varying and see when this is greater than 0."
   ]
  },
  {
   "cell_type": "code",
   "execution_count": 74,
   "metadata": {},
   "outputs": [
    {
     "data": {
      "application/javascript": [
       "/* Put everything inside the global mpl namespace */\n",
       "window.mpl = {};\n",
       "\n",
       "\n",
       "mpl.get_websocket_type = function() {\n",
       "    if (typeof(WebSocket) !== 'undefined') {\n",
       "        return WebSocket;\n",
       "    } else if (typeof(MozWebSocket) !== 'undefined') {\n",
       "        return MozWebSocket;\n",
       "    } else {\n",
       "        alert('Your browser does not have WebSocket support. ' +\n",
       "              'Please try Chrome, Safari or Firefox ≥ 6. ' +\n",
       "              'Firefox 4 and 5 are also supported but you ' +\n",
       "              'have to enable WebSockets in about:config.');\n",
       "    };\n",
       "}\n",
       "\n",
       "mpl.figure = function(figure_id, websocket, ondownload, parent_element) {\n",
       "    this.id = figure_id;\n",
       "\n",
       "    this.ws = websocket;\n",
       "\n",
       "    this.supports_binary = (this.ws.binaryType != undefined);\n",
       "\n",
       "    if (!this.supports_binary) {\n",
       "        var warnings = document.getElementById(\"mpl-warnings\");\n",
       "        if (warnings) {\n",
       "            warnings.style.display = 'block';\n",
       "            warnings.textContent = (\n",
       "                \"This browser does not support binary websocket messages. \" +\n",
       "                    \"Performance may be slow.\");\n",
       "        }\n",
       "    }\n",
       "\n",
       "    this.imageObj = new Image();\n",
       "\n",
       "    this.context = undefined;\n",
       "    this.message = undefined;\n",
       "    this.canvas = undefined;\n",
       "    this.rubberband_canvas = undefined;\n",
       "    this.rubberband_context = undefined;\n",
       "    this.format_dropdown = undefined;\n",
       "\n",
       "    this.image_mode = 'full';\n",
       "\n",
       "    this.root = $('<div/>');\n",
       "    this._root_extra_style(this.root)\n",
       "    this.root.attr('style', 'display: inline-block');\n",
       "\n",
       "    $(parent_element).append(this.root);\n",
       "\n",
       "    this._init_header(this);\n",
       "    this._init_canvas(this);\n",
       "    this._init_toolbar(this);\n",
       "\n",
       "    var fig = this;\n",
       "\n",
       "    this.waiting = false;\n",
       "\n",
       "    this.ws.onopen =  function () {\n",
       "            fig.send_message(\"supports_binary\", {value: fig.supports_binary});\n",
       "            fig.send_message(\"send_image_mode\", {});\n",
       "            if (mpl.ratio != 1) {\n",
       "                fig.send_message(\"set_dpi_ratio\", {'dpi_ratio': mpl.ratio});\n",
       "            }\n",
       "            fig.send_message(\"refresh\", {});\n",
       "        }\n",
       "\n",
       "    this.imageObj.onload = function() {\n",
       "            if (fig.image_mode == 'full') {\n",
       "                // Full images could contain transparency (where diff images\n",
       "                // almost always do), so we need to clear the canvas so that\n",
       "                // there is no ghosting.\n",
       "                fig.context.clearRect(0, 0, fig.canvas.width, fig.canvas.height);\n",
       "            }\n",
       "            fig.context.drawImage(fig.imageObj, 0, 0);\n",
       "        };\n",
       "\n",
       "    this.imageObj.onunload = function() {\n",
       "        fig.ws.close();\n",
       "    }\n",
       "\n",
       "    this.ws.onmessage = this._make_on_message_function(this);\n",
       "\n",
       "    this.ondownload = ondownload;\n",
       "}\n",
       "\n",
       "mpl.figure.prototype._init_header = function() {\n",
       "    var titlebar = $(\n",
       "        '<div class=\"ui-dialog-titlebar ui-widget-header ui-corner-all ' +\n",
       "        'ui-helper-clearfix\"/>');\n",
       "    var titletext = $(\n",
       "        '<div class=\"ui-dialog-title\" style=\"width: 100%; ' +\n",
       "        'text-align: center; padding: 3px;\"/>');\n",
       "    titlebar.append(titletext)\n",
       "    this.root.append(titlebar);\n",
       "    this.header = titletext[0];\n",
       "}\n",
       "\n",
       "\n",
       "\n",
       "mpl.figure.prototype._canvas_extra_style = function(canvas_div) {\n",
       "\n",
       "}\n",
       "\n",
       "\n",
       "mpl.figure.prototype._root_extra_style = function(canvas_div) {\n",
       "\n",
       "}\n",
       "\n",
       "mpl.figure.prototype._init_canvas = function() {\n",
       "    var fig = this;\n",
       "\n",
       "    var canvas_div = $('<div/>');\n",
       "\n",
       "    canvas_div.attr('style', 'position: relative; clear: both; outline: 0');\n",
       "\n",
       "    function canvas_keyboard_event(event) {\n",
       "        return fig.key_event(event, event['data']);\n",
       "    }\n",
       "\n",
       "    canvas_div.keydown('key_press', canvas_keyboard_event);\n",
       "    canvas_div.keyup('key_release', canvas_keyboard_event);\n",
       "    this.canvas_div = canvas_div\n",
       "    this._canvas_extra_style(canvas_div)\n",
       "    this.root.append(canvas_div);\n",
       "\n",
       "    var canvas = $('<canvas/>');\n",
       "    canvas.addClass('mpl-canvas');\n",
       "    canvas.attr('style', \"left: 0; top: 0; z-index: 0; outline: 0\")\n",
       "\n",
       "    this.canvas = canvas[0];\n",
       "    this.context = canvas[0].getContext(\"2d\");\n",
       "\n",
       "    var backingStore = this.context.backingStorePixelRatio ||\n",
       "\tthis.context.webkitBackingStorePixelRatio ||\n",
       "\tthis.context.mozBackingStorePixelRatio ||\n",
       "\tthis.context.msBackingStorePixelRatio ||\n",
       "\tthis.context.oBackingStorePixelRatio ||\n",
       "\tthis.context.backingStorePixelRatio || 1;\n",
       "\n",
       "    mpl.ratio = (window.devicePixelRatio || 1) / backingStore;\n",
       "\n",
       "    var rubberband = $('<canvas/>');\n",
       "    rubberband.attr('style', \"position: absolute; left: 0; top: 0; z-index: 1;\")\n",
       "\n",
       "    var pass_mouse_events = true;\n",
       "\n",
       "    canvas_div.resizable({\n",
       "        start: function(event, ui) {\n",
       "            pass_mouse_events = false;\n",
       "        },\n",
       "        resize: function(event, ui) {\n",
       "            fig.request_resize(ui.size.width, ui.size.height);\n",
       "        },\n",
       "        stop: function(event, ui) {\n",
       "            pass_mouse_events = true;\n",
       "            fig.request_resize(ui.size.width, ui.size.height);\n",
       "        },\n",
       "    });\n",
       "\n",
       "    function mouse_event_fn(event) {\n",
       "        if (pass_mouse_events)\n",
       "            return fig.mouse_event(event, event['data']);\n",
       "    }\n",
       "\n",
       "    rubberband.mousedown('button_press', mouse_event_fn);\n",
       "    rubberband.mouseup('button_release', mouse_event_fn);\n",
       "    // Throttle sequential mouse events to 1 every 20ms.\n",
       "    rubberband.mousemove('motion_notify', mouse_event_fn);\n",
       "\n",
       "    rubberband.mouseenter('figure_enter', mouse_event_fn);\n",
       "    rubberband.mouseleave('figure_leave', mouse_event_fn);\n",
       "\n",
       "    canvas_div.on(\"wheel\", function (event) {\n",
       "        event = event.originalEvent;\n",
       "        event['data'] = 'scroll'\n",
       "        if (event.deltaY < 0) {\n",
       "            event.step = 1;\n",
       "        } else {\n",
       "            event.step = -1;\n",
       "        }\n",
       "        mouse_event_fn(event);\n",
       "    });\n",
       "\n",
       "    canvas_div.append(canvas);\n",
       "    canvas_div.append(rubberband);\n",
       "\n",
       "    this.rubberband = rubberband;\n",
       "    this.rubberband_canvas = rubberband[0];\n",
       "    this.rubberband_context = rubberband[0].getContext(\"2d\");\n",
       "    this.rubberband_context.strokeStyle = \"#000000\";\n",
       "\n",
       "    this._resize_canvas = function(width, height) {\n",
       "        // Keep the size of the canvas, canvas container, and rubber band\n",
       "        // canvas in synch.\n",
       "        canvas_div.css('width', width)\n",
       "        canvas_div.css('height', height)\n",
       "\n",
       "        canvas.attr('width', width * mpl.ratio);\n",
       "        canvas.attr('height', height * mpl.ratio);\n",
       "        canvas.attr('style', 'width: ' + width + 'px; height: ' + height + 'px;');\n",
       "\n",
       "        rubberband.attr('width', width);\n",
       "        rubberband.attr('height', height);\n",
       "    }\n",
       "\n",
       "    // Set the figure to an initial 600x600px, this will subsequently be updated\n",
       "    // upon first draw.\n",
       "    this._resize_canvas(600, 600);\n",
       "\n",
       "    // Disable right mouse context menu.\n",
       "    $(this.rubberband_canvas).bind(\"contextmenu\",function(e){\n",
       "        return false;\n",
       "    });\n",
       "\n",
       "    function set_focus () {\n",
       "        canvas.focus();\n",
       "        canvas_div.focus();\n",
       "    }\n",
       "\n",
       "    window.setTimeout(set_focus, 100);\n",
       "}\n",
       "\n",
       "mpl.figure.prototype._init_toolbar = function() {\n",
       "    var fig = this;\n",
       "\n",
       "    var nav_element = $('<div/>');\n",
       "    nav_element.attr('style', 'width: 100%');\n",
       "    this.root.append(nav_element);\n",
       "\n",
       "    // Define a callback function for later on.\n",
       "    function toolbar_event(event) {\n",
       "        return fig.toolbar_button_onclick(event['data']);\n",
       "    }\n",
       "    function toolbar_mouse_event(event) {\n",
       "        return fig.toolbar_button_onmouseover(event['data']);\n",
       "    }\n",
       "\n",
       "    for(var toolbar_ind in mpl.toolbar_items) {\n",
       "        var name = mpl.toolbar_items[toolbar_ind][0];\n",
       "        var tooltip = mpl.toolbar_items[toolbar_ind][1];\n",
       "        var image = mpl.toolbar_items[toolbar_ind][2];\n",
       "        var method_name = mpl.toolbar_items[toolbar_ind][3];\n",
       "\n",
       "        if (!name) {\n",
       "            // put a spacer in here.\n",
       "            continue;\n",
       "        }\n",
       "        var button = $('<button/>');\n",
       "        button.addClass('ui-button ui-widget ui-state-default ui-corner-all ' +\n",
       "                        'ui-button-icon-only');\n",
       "        button.attr('role', 'button');\n",
       "        button.attr('aria-disabled', 'false');\n",
       "        button.click(method_name, toolbar_event);\n",
       "        button.mouseover(tooltip, toolbar_mouse_event);\n",
       "\n",
       "        var icon_img = $('<span/>');\n",
       "        icon_img.addClass('ui-button-icon-primary ui-icon');\n",
       "        icon_img.addClass(image);\n",
       "        icon_img.addClass('ui-corner-all');\n",
       "\n",
       "        var tooltip_span = $('<span/>');\n",
       "        tooltip_span.addClass('ui-button-text');\n",
       "        tooltip_span.html(tooltip);\n",
       "\n",
       "        button.append(icon_img);\n",
       "        button.append(tooltip_span);\n",
       "\n",
       "        nav_element.append(button);\n",
       "    }\n",
       "\n",
       "    var fmt_picker_span = $('<span/>');\n",
       "\n",
       "    var fmt_picker = $('<select/>');\n",
       "    fmt_picker.addClass('mpl-toolbar-option ui-widget ui-widget-content');\n",
       "    fmt_picker_span.append(fmt_picker);\n",
       "    nav_element.append(fmt_picker_span);\n",
       "    this.format_dropdown = fmt_picker[0];\n",
       "\n",
       "    for (var ind in mpl.extensions) {\n",
       "        var fmt = mpl.extensions[ind];\n",
       "        var option = $(\n",
       "            '<option/>', {selected: fmt === mpl.default_extension}).html(fmt);\n",
       "        fmt_picker.append(option);\n",
       "    }\n",
       "\n",
       "    // Add hover states to the ui-buttons\n",
       "    $( \".ui-button\" ).hover(\n",
       "        function() { $(this).addClass(\"ui-state-hover\");},\n",
       "        function() { $(this).removeClass(\"ui-state-hover\");}\n",
       "    );\n",
       "\n",
       "    var status_bar = $('<span class=\"mpl-message\"/>');\n",
       "    nav_element.append(status_bar);\n",
       "    this.message = status_bar[0];\n",
       "}\n",
       "\n",
       "mpl.figure.prototype.request_resize = function(x_pixels, y_pixels) {\n",
       "    // Request matplotlib to resize the figure. Matplotlib will then trigger a resize in the client,\n",
       "    // which will in turn request a refresh of the image.\n",
       "    this.send_message('resize', {'width': x_pixels, 'height': y_pixels});\n",
       "}\n",
       "\n",
       "mpl.figure.prototype.send_message = function(type, properties) {\n",
       "    properties['type'] = type;\n",
       "    properties['figure_id'] = this.id;\n",
       "    this.ws.send(JSON.stringify(properties));\n",
       "}\n",
       "\n",
       "mpl.figure.prototype.send_draw_message = function() {\n",
       "    if (!this.waiting) {\n",
       "        this.waiting = true;\n",
       "        this.ws.send(JSON.stringify({type: \"draw\", figure_id: this.id}));\n",
       "    }\n",
       "}\n",
       "\n",
       "\n",
       "mpl.figure.prototype.handle_save = function(fig, msg) {\n",
       "    var format_dropdown = fig.format_dropdown;\n",
       "    var format = format_dropdown.options[format_dropdown.selectedIndex].value;\n",
       "    fig.ondownload(fig, format);\n",
       "}\n",
       "\n",
       "\n",
       "mpl.figure.prototype.handle_resize = function(fig, msg) {\n",
       "    var size = msg['size'];\n",
       "    if (size[0] != fig.canvas.width || size[1] != fig.canvas.height) {\n",
       "        fig._resize_canvas(size[0], size[1]);\n",
       "        fig.send_message(\"refresh\", {});\n",
       "    };\n",
       "}\n",
       "\n",
       "mpl.figure.prototype.handle_rubberband = function(fig, msg) {\n",
       "    var x0 = msg['x0'] / mpl.ratio;\n",
       "    var y0 = (fig.canvas.height - msg['y0']) / mpl.ratio;\n",
       "    var x1 = msg['x1'] / mpl.ratio;\n",
       "    var y1 = (fig.canvas.height - msg['y1']) / mpl.ratio;\n",
       "    x0 = Math.floor(x0) + 0.5;\n",
       "    y0 = Math.floor(y0) + 0.5;\n",
       "    x1 = Math.floor(x1) + 0.5;\n",
       "    y1 = Math.floor(y1) + 0.5;\n",
       "    var min_x = Math.min(x0, x1);\n",
       "    var min_y = Math.min(y0, y1);\n",
       "    var width = Math.abs(x1 - x0);\n",
       "    var height = Math.abs(y1 - y0);\n",
       "\n",
       "    fig.rubberband_context.clearRect(\n",
       "        0, 0, fig.canvas.width / mpl.ratio, fig.canvas.height / mpl.ratio);\n",
       "\n",
       "    fig.rubberband_context.strokeRect(min_x, min_y, width, height);\n",
       "}\n",
       "\n",
       "mpl.figure.prototype.handle_figure_label = function(fig, msg) {\n",
       "    // Updates the figure title.\n",
       "    fig.header.textContent = msg['label'];\n",
       "}\n",
       "\n",
       "mpl.figure.prototype.handle_cursor = function(fig, msg) {\n",
       "    var cursor = msg['cursor'];\n",
       "    switch(cursor)\n",
       "    {\n",
       "    case 0:\n",
       "        cursor = 'pointer';\n",
       "        break;\n",
       "    case 1:\n",
       "        cursor = 'default';\n",
       "        break;\n",
       "    case 2:\n",
       "        cursor = 'crosshair';\n",
       "        break;\n",
       "    case 3:\n",
       "        cursor = 'move';\n",
       "        break;\n",
       "    }\n",
       "    fig.rubberband_canvas.style.cursor = cursor;\n",
       "}\n",
       "\n",
       "mpl.figure.prototype.handle_message = function(fig, msg) {\n",
       "    fig.message.textContent = msg['message'];\n",
       "}\n",
       "\n",
       "mpl.figure.prototype.handle_draw = function(fig, msg) {\n",
       "    // Request the server to send over a new figure.\n",
       "    fig.send_draw_message();\n",
       "}\n",
       "\n",
       "mpl.figure.prototype.handle_image_mode = function(fig, msg) {\n",
       "    fig.image_mode = msg['mode'];\n",
       "}\n",
       "\n",
       "mpl.figure.prototype.updated_canvas_event = function() {\n",
       "    // Called whenever the canvas gets updated.\n",
       "    this.send_message(\"ack\", {});\n",
       "}\n",
       "\n",
       "// A function to construct a web socket function for onmessage handling.\n",
       "// Called in the figure constructor.\n",
       "mpl.figure.prototype._make_on_message_function = function(fig) {\n",
       "    return function socket_on_message(evt) {\n",
       "        if (evt.data instanceof Blob) {\n",
       "            /* FIXME: We get \"Resource interpreted as Image but\n",
       "             * transferred with MIME type text/plain:\" errors on\n",
       "             * Chrome.  But how to set the MIME type?  It doesn't seem\n",
       "             * to be part of the websocket stream */\n",
       "            evt.data.type = \"image/png\";\n",
       "\n",
       "            /* Free the memory for the previous frames */\n",
       "            if (fig.imageObj.src) {\n",
       "                (window.URL || window.webkitURL).revokeObjectURL(\n",
       "                    fig.imageObj.src);\n",
       "            }\n",
       "\n",
       "            fig.imageObj.src = (window.URL || window.webkitURL).createObjectURL(\n",
       "                evt.data);\n",
       "            fig.updated_canvas_event();\n",
       "            fig.waiting = false;\n",
       "            return;\n",
       "        }\n",
       "        else if (typeof evt.data === 'string' && evt.data.slice(0, 21) == \"data:image/png;base64\") {\n",
       "            fig.imageObj.src = evt.data;\n",
       "            fig.updated_canvas_event();\n",
       "            fig.waiting = false;\n",
       "            return;\n",
       "        }\n",
       "\n",
       "        var msg = JSON.parse(evt.data);\n",
       "        var msg_type = msg['type'];\n",
       "\n",
       "        // Call the  \"handle_{type}\" callback, which takes\n",
       "        // the figure and JSON message as its only arguments.\n",
       "        try {\n",
       "            var callback = fig[\"handle_\" + msg_type];\n",
       "        } catch (e) {\n",
       "            console.log(\"No handler for the '\" + msg_type + \"' message type: \", msg);\n",
       "            return;\n",
       "        }\n",
       "\n",
       "        if (callback) {\n",
       "            try {\n",
       "                // console.log(\"Handling '\" + msg_type + \"' message: \", msg);\n",
       "                callback(fig, msg);\n",
       "            } catch (e) {\n",
       "                console.log(\"Exception inside the 'handler_\" + msg_type + \"' callback:\", e, e.stack, msg);\n",
       "            }\n",
       "        }\n",
       "    };\n",
       "}\n",
       "\n",
       "// from http://stackoverflow.com/questions/1114465/getting-mouse-location-in-canvas\n",
       "mpl.findpos = function(e) {\n",
       "    //this section is from http://www.quirksmode.org/js/events_properties.html\n",
       "    var targ;\n",
       "    if (!e)\n",
       "        e = window.event;\n",
       "    if (e.target)\n",
       "        targ = e.target;\n",
       "    else if (e.srcElement)\n",
       "        targ = e.srcElement;\n",
       "    if (targ.nodeType == 3) // defeat Safari bug\n",
       "        targ = targ.parentNode;\n",
       "\n",
       "    // jQuery normalizes the pageX and pageY\n",
       "    // pageX,Y are the mouse positions relative to the document\n",
       "    // offset() returns the position of the element relative to the document\n",
       "    var x = e.pageX - $(targ).offset().left;\n",
       "    var y = e.pageY - $(targ).offset().top;\n",
       "\n",
       "    return {\"x\": x, \"y\": y};\n",
       "};\n",
       "\n",
       "/*\n",
       " * return a copy of an object with only non-object keys\n",
       " * we need this to avoid circular references\n",
       " * http://stackoverflow.com/a/24161582/3208463\n",
       " */\n",
       "function simpleKeys (original) {\n",
       "  return Object.keys(original).reduce(function (obj, key) {\n",
       "    if (typeof original[key] !== 'object')\n",
       "        obj[key] = original[key]\n",
       "    return obj;\n",
       "  }, {});\n",
       "}\n",
       "\n",
       "mpl.figure.prototype.mouse_event = function(event, name) {\n",
       "    var canvas_pos = mpl.findpos(event)\n",
       "\n",
       "    if (name === 'button_press')\n",
       "    {\n",
       "        this.canvas.focus();\n",
       "        this.canvas_div.focus();\n",
       "    }\n",
       "\n",
       "    var x = canvas_pos.x * mpl.ratio;\n",
       "    var y = canvas_pos.y * mpl.ratio;\n",
       "\n",
       "    this.send_message(name, {x: x, y: y, button: event.button,\n",
       "                             step: event.step,\n",
       "                             guiEvent: simpleKeys(event)});\n",
       "\n",
       "    /* This prevents the web browser from automatically changing to\n",
       "     * the text insertion cursor when the button is pressed.  We want\n",
       "     * to control all of the cursor setting manually through the\n",
       "     * 'cursor' event from matplotlib */\n",
       "    event.preventDefault();\n",
       "    return false;\n",
       "}\n",
       "\n",
       "mpl.figure.prototype._key_event_extra = function(event, name) {\n",
       "    // Handle any extra behaviour associated with a key event\n",
       "}\n",
       "\n",
       "mpl.figure.prototype.key_event = function(event, name) {\n",
       "\n",
       "    // Prevent repeat events\n",
       "    if (name == 'key_press')\n",
       "    {\n",
       "        if (event.which === this._key)\n",
       "            return;\n",
       "        else\n",
       "            this._key = event.which;\n",
       "    }\n",
       "    if (name == 'key_release')\n",
       "        this._key = null;\n",
       "\n",
       "    var value = '';\n",
       "    if (event.ctrlKey && event.which != 17)\n",
       "        value += \"ctrl+\";\n",
       "    if (event.altKey && event.which != 18)\n",
       "        value += \"alt+\";\n",
       "    if (event.shiftKey && event.which != 16)\n",
       "        value += \"shift+\";\n",
       "\n",
       "    value += 'k';\n",
       "    value += event.which.toString();\n",
       "\n",
       "    this._key_event_extra(event, name);\n",
       "\n",
       "    this.send_message(name, {key: value,\n",
       "                             guiEvent: simpleKeys(event)});\n",
       "    return false;\n",
       "}\n",
       "\n",
       "mpl.figure.prototype.toolbar_button_onclick = function(name) {\n",
       "    if (name == 'download') {\n",
       "        this.handle_save(this, null);\n",
       "    } else {\n",
       "        this.send_message(\"toolbar_button\", {name: name});\n",
       "    }\n",
       "};\n",
       "\n",
       "mpl.figure.prototype.toolbar_button_onmouseover = function(tooltip) {\n",
       "    this.message.textContent = tooltip;\n",
       "};\n",
       "mpl.toolbar_items = [[\"Home\", \"Reset original view\", \"fa fa-home icon-home\", \"home\"], [\"Back\", \"Back to previous view\", \"fa fa-arrow-left icon-arrow-left\", \"back\"], [\"Forward\", \"Forward to next view\", \"fa fa-arrow-right icon-arrow-right\", \"forward\"], [\"\", \"\", \"\", \"\"], [\"Pan\", \"Pan axes with left mouse, zoom with right\", \"fa fa-arrows icon-move\", \"pan\"], [\"Zoom\", \"Zoom to rectangle\", \"fa fa-square-o icon-check-empty\", \"zoom\"], [\"\", \"\", \"\", \"\"], [\"Download\", \"Download plot\", \"fa fa-floppy-o icon-save\", \"download\"]];\n",
       "\n",
       "mpl.extensions = [\"eps\", \"pdf\", \"png\", \"ps\", \"raw\", \"svg\"];\n",
       "\n",
       "mpl.default_extension = \"png\";var comm_websocket_adapter = function(comm) {\n",
       "    // Create a \"websocket\"-like object which calls the given IPython comm\n",
       "    // object with the appropriate methods. Currently this is a non binary\n",
       "    // socket, so there is still some room for performance tuning.\n",
       "    var ws = {};\n",
       "\n",
       "    ws.close = function() {\n",
       "        comm.close()\n",
       "    };\n",
       "    ws.send = function(m) {\n",
       "        //console.log('sending', m);\n",
       "        comm.send(m);\n",
       "    };\n",
       "    // Register the callback with on_msg.\n",
       "    comm.on_msg(function(msg) {\n",
       "        //console.log('receiving', msg['content']['data'], msg);\n",
       "        // Pass the mpl event to the overridden (by mpl) onmessage function.\n",
       "        ws.onmessage(msg['content']['data'])\n",
       "    });\n",
       "    return ws;\n",
       "}\n",
       "\n",
       "mpl.mpl_figure_comm = function(comm, msg) {\n",
       "    // This is the function which gets called when the mpl process\n",
       "    // starts-up an IPython Comm through the \"matplotlib\" channel.\n",
       "\n",
       "    var id = msg.content.data.id;\n",
       "    // Get hold of the div created by the display call when the Comm\n",
       "    // socket was opened in Python.\n",
       "    var element = $(\"#\" + id);\n",
       "    var ws_proxy = comm_websocket_adapter(comm)\n",
       "\n",
       "    function ondownload(figure, format) {\n",
       "        window.open(figure.imageObj.src);\n",
       "    }\n",
       "\n",
       "    var fig = new mpl.figure(id, ws_proxy,\n",
       "                           ondownload,\n",
       "                           element.get(0));\n",
       "\n",
       "    // Call onopen now - mpl needs it, as it is assuming we've passed it a real\n",
       "    // web socket which is closed, not our websocket->open comm proxy.\n",
       "    ws_proxy.onopen();\n",
       "\n",
       "    fig.parent_element = element.get(0);\n",
       "    fig.cell_info = mpl.find_output_cell(\"<div id='\" + id + \"'></div>\");\n",
       "    if (!fig.cell_info) {\n",
       "        console.error(\"Failed to find cell for figure\", id, fig);\n",
       "        return;\n",
       "    }\n",
       "\n",
       "    var output_index = fig.cell_info[2]\n",
       "    var cell = fig.cell_info[0];\n",
       "\n",
       "};\n",
       "\n",
       "mpl.figure.prototype.handle_close = function(fig, msg) {\n",
       "    var width = fig.canvas.width/mpl.ratio\n",
       "    fig.root.unbind('remove')\n",
       "\n",
       "    // Update the output cell to use the data from the current canvas.\n",
       "    fig.push_to_output();\n",
       "    var dataURL = fig.canvas.toDataURL();\n",
       "    // Re-enable the keyboard manager in IPython - without this line, in FF,\n",
       "    // the notebook keyboard shortcuts fail.\n",
       "    IPython.keyboard_manager.enable()\n",
       "    $(fig.parent_element).html('<img src=\"' + dataURL + '\" width=\"' + width + '\">');\n",
       "    fig.close_ws(fig, msg);\n",
       "}\n",
       "\n",
       "mpl.figure.prototype.close_ws = function(fig, msg){\n",
       "    fig.send_message('closing', msg);\n",
       "    // fig.ws.close()\n",
       "}\n",
       "\n",
       "mpl.figure.prototype.push_to_output = function(remove_interactive) {\n",
       "    // Turn the data on the canvas into data in the output cell.\n",
       "    var width = this.canvas.width/mpl.ratio\n",
       "    var dataURL = this.canvas.toDataURL();\n",
       "    this.cell_info[1]['text/html'] = '<img src=\"' + dataURL + '\" width=\"' + width + '\">';\n",
       "}\n",
       "\n",
       "mpl.figure.prototype.updated_canvas_event = function() {\n",
       "    // Tell IPython that the notebook contents must change.\n",
       "    IPython.notebook.set_dirty(true);\n",
       "    this.send_message(\"ack\", {});\n",
       "    var fig = this;\n",
       "    // Wait a second, then push the new image to the DOM so\n",
       "    // that it is saved nicely (might be nice to debounce this).\n",
       "    setTimeout(function () { fig.push_to_output() }, 1000);\n",
       "}\n",
       "\n",
       "mpl.figure.prototype._init_toolbar = function() {\n",
       "    var fig = this;\n",
       "\n",
       "    var nav_element = $('<div/>');\n",
       "    nav_element.attr('style', 'width: 100%');\n",
       "    this.root.append(nav_element);\n",
       "\n",
       "    // Define a callback function for later on.\n",
       "    function toolbar_event(event) {\n",
       "        return fig.toolbar_button_onclick(event['data']);\n",
       "    }\n",
       "    function toolbar_mouse_event(event) {\n",
       "        return fig.toolbar_button_onmouseover(event['data']);\n",
       "    }\n",
       "\n",
       "    for(var toolbar_ind in mpl.toolbar_items){\n",
       "        var name = mpl.toolbar_items[toolbar_ind][0];\n",
       "        var tooltip = mpl.toolbar_items[toolbar_ind][1];\n",
       "        var image = mpl.toolbar_items[toolbar_ind][2];\n",
       "        var method_name = mpl.toolbar_items[toolbar_ind][3];\n",
       "\n",
       "        if (!name) { continue; };\n",
       "\n",
       "        var button = $('<button class=\"btn btn-default\" href=\"#\" title=\"' + name + '\"><i class=\"fa ' + image + ' fa-lg\"></i></button>');\n",
       "        button.click(method_name, toolbar_event);\n",
       "        button.mouseover(tooltip, toolbar_mouse_event);\n",
       "        nav_element.append(button);\n",
       "    }\n",
       "\n",
       "    // Add the status bar.\n",
       "    var status_bar = $('<span class=\"mpl-message\" style=\"text-align:right; float: right;\"/>');\n",
       "    nav_element.append(status_bar);\n",
       "    this.message = status_bar[0];\n",
       "\n",
       "    // Add the close button to the window.\n",
       "    var buttongrp = $('<div class=\"btn-group inline pull-right\"></div>');\n",
       "    var button = $('<button class=\"btn btn-mini btn-primary\" href=\"#\" title=\"Stop Interaction\"><i class=\"fa fa-power-off icon-remove icon-large\"></i></button>');\n",
       "    button.click(function (evt) { fig.handle_close(fig, {}); } );\n",
       "    button.mouseover('Stop Interaction', toolbar_mouse_event);\n",
       "    buttongrp.append(button);\n",
       "    var titlebar = this.root.find($('.ui-dialog-titlebar'));\n",
       "    titlebar.prepend(buttongrp);\n",
       "}\n",
       "\n",
       "mpl.figure.prototype._root_extra_style = function(el){\n",
       "    var fig = this\n",
       "    el.on(\"remove\", function(){\n",
       "\tfig.close_ws(fig, {});\n",
       "    });\n",
       "}\n",
       "\n",
       "mpl.figure.prototype._canvas_extra_style = function(el){\n",
       "    // this is important to make the div 'focusable\n",
       "    el.attr('tabindex', 0)\n",
       "    // reach out to IPython and tell the keyboard manager to turn it's self\n",
       "    // off when our div gets focus\n",
       "\n",
       "    // location in version 3\n",
       "    if (IPython.notebook.keyboard_manager) {\n",
       "        IPython.notebook.keyboard_manager.register_events(el);\n",
       "    }\n",
       "    else {\n",
       "        // location in version 2\n",
       "        IPython.keyboard_manager.register_events(el);\n",
       "    }\n",
       "\n",
       "}\n",
       "\n",
       "mpl.figure.prototype._key_event_extra = function(event, name) {\n",
       "    var manager = IPython.notebook.keyboard_manager;\n",
       "    if (!manager)\n",
       "        manager = IPython.keyboard_manager;\n",
       "\n",
       "    // Check for shift+enter\n",
       "    if (event.shiftKey && event.which == 13) {\n",
       "        this.canvas_div.blur();\n",
       "        // select the cell after this one\n",
       "        var index = IPython.notebook.find_cell_index(this.cell_info[0]);\n",
       "        IPython.notebook.select(index + 1);\n",
       "    }\n",
       "}\n",
       "\n",
       "mpl.figure.prototype.handle_save = function(fig, msg) {\n",
       "    fig.ondownload(fig, null);\n",
       "}\n",
       "\n",
       "\n",
       "mpl.find_output_cell = function(html_output) {\n",
       "    // Return the cell and output element which can be found *uniquely* in the notebook.\n",
       "    // Note - this is a bit hacky, but it is done because the \"notebook_saving.Notebook\"\n",
       "    // IPython event is triggered only after the cells have been serialised, which for\n",
       "    // our purposes (turning an active figure into a static one), is too late.\n",
       "    var cells = IPython.notebook.get_cells();\n",
       "    var ncells = cells.length;\n",
       "    for (var i=0; i<ncells; i++) {\n",
       "        var cell = cells[i];\n",
       "        if (cell.cell_type === 'code'){\n",
       "            for (var j=0; j<cell.output_area.outputs.length; j++) {\n",
       "                var data = cell.output_area.outputs[j];\n",
       "                if (data.data) {\n",
       "                    // IPython >= 3 moved mimebundle to data attribute of output\n",
       "                    data = data.data;\n",
       "                }\n",
       "                if (data['text/html'] == html_output) {\n",
       "                    return [cell, data, j];\n",
       "                }\n",
       "            }\n",
       "        }\n",
       "    }\n",
       "}\n",
       "\n",
       "// Register the function which deals with the matplotlib target/channel.\n",
       "// The kernel may be null if the page has been refreshed.\n",
       "if (IPython.notebook.kernel != null) {\n",
       "    IPython.notebook.kernel.comm_manager.register_target('matplotlib', mpl.mpl_figure_comm);\n",
       "}\n"
      ],
      "text/plain": [
       "<IPython.core.display.Javascript object>"
      ]
     },
     "metadata": {},
     "output_type": "display_data"
    },
    {
     "data": {
      "text/html": [
       "<img src=\"data:image/png;base64,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\" width=\"500\">"
      ],
      "text/plain": [
       "<IPython.core.display.HTML object>"
      ]
     },
     "metadata": {},
     "output_type": "display_data"
    }
   ],
   "source": [
    "%matplotlib notebook\n",
    "from mpl_toolkits.mplot3d import Axes3D  \n",
    "# Axes3D import has side effects, it enables using projection='3d' in add_subplot\n",
    "import matplotlib.pyplot as plt\n",
    "from matplotlib import cm\n",
    "\n",
    "def p0_squared(omega, sigma):\n",
    "    return m*hbar*omega - hbar**2/(4*sigma**2) - m**2 * omega**2 * sigma**2\n",
    "\n",
    "fig = plt.figure(figsize=(5, 5))\n",
    "ax = fig.add_subplot(111, projection='3d')\n",
    "deltaE_range = np.linspace(0, 100, 10) * 1e-3\n",
    "omega_range = e*deltaE_range / hbar\n",
    "sigma_range = np.linspace(1e-9, 100e-9, 10)\n",
    "X, Y = np.meshgrid(omega_range, sigma_range)\n",
    "zs = np.array(p0_squared(np.ravel(X), np.ravel(Y)))\n",
    "Z = zs.reshape(X.shape)\n",
    "\n",
    "ax.plot_surface(X, Y, Z, cmap=cm.jet)\n",
    "\n",
    "ax.set_xlabel('$\\omega$')\n",
    "ax.set_ylabel('$\\sigma$')\n",
    "ax.set_zlabel('$p_0^2$')\n",
    "plt.title(\"Max value: %e\" % max(zs))\n",
    "plt.show()"
   ]
  },
  {
   "cell_type": "code",
   "execution_count": 72,
   "metadata": {},
   "outputs": [
    {
     "data": {
      "image/png": "[encoded data removed]",
      "text/latex": [
       "$\\displaystyle 0.15192675144791434$"
      ],
      "text/plain": [
       "0.15192675144791434"
      ]
     },
     "execution_count": 72,
     "metadata": {},
     "output_type": "execute_result"
    }
   ],
   "source": [
    "p0 = m * 1e-9 * 1e-9/1e-12"
   ]
  },
  {
   "cell_type": "markdown",
   "metadata": {},
   "source": [
    "The value of the momentum is quite abstract. However wavelength and group velocity are easier to understand. Luckily we can get these two values very easily from the momentum. The associated wavelength and group velocity are given below in nm and nm/ps respectively:"
   ]
  },
  {
   "cell_type": "code",
   "execution_count": 16,
   "metadata": {},
   "outputs": [
    {
     "data": {
      "image/png": "[encoded data removed]",
      "text/latex": [
       "$\\displaystyle \\left( 3828365843759.3945, \\  1e-09\\right)$"
      ],
      "text/plain": [
       "(3828365843759.3945, 1e-09)"
      ]
     },
     "execution_count": 16,
     "metadata": {},
     "output_type": "execute_result"
    }
   ],
   "source": [
    "wavelength = 2*np.pi*hbar/p0\n",
    "v = p0/m \n",
    "wavelength * 1e9, v * 1e9/1e12"
   ]
  },
  {
   "cell_type": "markdown",
   "metadata": {},
   "source": [
    "Finally, we define the wave function $\\psi$ and its associated probability density $|\\psi|^2$:"
   ]
  },
  {
   "cell_type": "code",
   "execution_count": 17,
   "metadata": {},
   "outputs": [],
   "source": [
    "psi = 1/((2*np.pi)**(1/4)*np.sqrt(sigma)) * np.exp(-1/2 *(x-x0)**2/(2*sigma**2)) * np.exp(1j*p0*(x-x0)/hbar)\n",
    "prob = abs(psi)**2"
   ]
  },
  {
   "cell_type": "markdown",
   "metadata": {},
   "source": [
    "### Verification of theoretical properties\n",
    "What follow are some checks to verify the initial conditions of the wavepacket. We begin by computing derivatives of the wavefunction:"
   ]
  },
  {
   "cell_type": "code",
   "execution_count": 18,
   "metadata": {},
   "outputs": [],
   "source": [
    "# First spatial derivative of psi\n",
    "dpsi0dx = np.zeros(Nx, dtype=\"complex256\")\n",
    "# dpsi0dx(1:Nx-1) = (psi(2:Nx) - psi(1:Nx-1)) / dx\n",
    "# dpsi0dx(1) = (psi(2) - psi(1)) / (dx)\n",
    "dpsi0dx[2:Nx-1] = (psi[3:Nx] - psi[1:Nx-2]) / (2*dx)\n",
    "# dpsi0dx(Nx) = (psi(Nx) - psi(Nx-1)) / (dx)\n",
    "\n",
    "# Second spatial derivative of psi\n",
    "d2psi0dx2 = np.zeros(Nx, dtype=\"complex256\")\n",
    "# d2psi0dx2(1:Nx-1) = (dpsi0dx(2:Nx) - dpsi0dx(1:Nx-1)) / dx\n",
    "# d2psi0dx2(1) = (dpsi0dx(2) - dpsi0dx(1)) / dx\n",
    "d2psi0dx2[2:Nx-1] = (dpsi0dx[3:Nx] - dpsi0dx[1:Nx-2]) / (2*dx)\n",
    "# d2psi0dx2(Nx) = (dpsi0dx(Nx) - dpsi0dx(Nx-1)) / dx"
   ]
  },
  {
   "cell_type": "markdown",
   "metadata": {},
   "source": [
    "We can then check the physical quantities we computed in the theory section:"
   ]
  },
  {
   "cell_type": "code",
   "execution_count": 19,
   "metadata": {},
   "outputs": [
    {
     "data": {
      "text/plain": [
       "0.99378996877180826765"
      ]
     },
     "execution_count": 19,
     "metadata": {},
     "output_type": "execute_result"
    }
   ],
   "source": [
    "total_probability = np.trapz(prob * dx)\n",
    "total_probability"
   ]
  },
  {
   "cell_type": "code",
   "execution_count": 20,
   "metadata": {},
   "outputs": [
    {
     "data": {
      "text/plain": [
       "(2.5e-08, 2.5020039908209068836e-08)"
      ]
     },
     "execution_count": 20,
     "metadata": {},
     "output_type": "execute_result"
    }
   ],
   "source": [
    "average_position = np.trapz(x * prob * dx);\n",
    "x0, average_position"
   ]
  },
  {
   "cell_type": "code",
   "execution_count": 21,
   "metadata": {},
   "outputs": [
    {
     "data": {
      "text/plain": [
       "(1.7307827529000001e-37, (1.7195488195355279624e-37+9.594754951586863072e-29j))"
      ]
     },
     "execution_count": 21,
     "metadata": {},
     "output_type": "execute_result"
    }
   ],
   "source": [
    "average_momentum = np.trapz(np.conj(psi) * hbar / 1j * dpsi0dx * dx);\n",
    "p0, average_momentum"
   ]
  },
  {
   "cell_type": "code",
   "execution_count": 22,
   "metadata": {},
   "outputs": [
    {
     "data": {
      "text/plain": [
       "(8.031926041954226e-23, (7.978957460834612074e-23+4.857173437671517596e-35j))"
      ]
     },
     "execution_count": 22,
     "metadata": {},
     "output_type": "execute_result"
    }
   ],
   "source": [
    "kinetic_energy = p0**2/(2*m) + hbar**2/(2*m) * 1/(4*sigma**2)\n",
    "average_kinetic_energy = np.trapz(np.conj(psi) * -hbar**2/(2*m) * d2psi0dx2 * dx)\n",
    "kinetic_energy, average_kinetic_energy"
   ]
  },
  {
   "cell_type": "code",
   "execution_count": 23,
   "metadata": {},
   "outputs": [
    {
     "data": {
      "text/plain": [
       "(1.9974736850373786e-21, 1.897536138239393811e-21)"
      ]
     },
     "execution_count": 23,
     "metadata": {},
     "output_type": "execute_result"
    }
   ],
   "source": [
    "potential_energy = 1/2 * m * omega**2 * sigma**2\n",
    "V = 1/2 * m * omega**2 * (x-x0)**2\n",
    "average_potential_energy = np.trapz(V * prob * dx)\n",
    "potential_energy, average_potential_energy"
   ]
  },
  {
   "cell_type": "code",
   "execution_count": 24,
   "metadata": {},
   "outputs": [
    {
     "data": {
      "text/plain": [
       "(8.010882825e-22,\n",
       " 2.077792945456921e-21,\n",
       " (1.9773257128477399318e-21+4.857173437671517596e-35j))"
      ]
     },
     "execution_count": 24,
     "metadata": {},
     "output_type": "execute_result"
    }
   ],
   "source": [
    "total_energy = kinetic_energy + potential_energy;\n",
    "average_total_energy = average_kinetic_energy + average_potential_energy;\n",
    "E_0, total_energy, average_total_energy"
   ]
  },
  {
   "cell_type": "markdown",
   "metadata": {},
   "source": [
    "## Conclusion\n",
    "Globally, all physical quantities follow the theoretical predictions for any good momentum. However, the problem is choosing the initial value of the momentum depending on the parameters (namely $\\sigma$ and $\\Delta E$). There also seems to be an influence on the precision depending on the value of $p_0$."
   ]
  }
 ],
 "metadata": {
  "kernelspec": {
   "display_name": "Python 3",
   "language": "python",
   "name": "python3"
  },
  "language_info": {
   "codemirror_mode": {
    "name": "ipython",
    "version": 3
   },
   "file_extension": ".py",
   "mimetype": "text/x-python",
   "name": "python",
   "nbconvert_exporter": "python",
   "pygments_lexer": "ipython3",
   "version": "3.8.2"
  }
 },
 "nbformat": 4,
 "nbformat_minor": 2
}
