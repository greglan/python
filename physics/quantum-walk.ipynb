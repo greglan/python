{
 "cells": [
  {
   "cell_type": "markdown",
   "metadata": {},
   "source": [
    "# Quantum walk on a line\n",
    "\n",
    "This section is based on the paper [Quantum Walk on a Line with Two Entangled Particles](https://arxiv.org/pdf/quant-ph/0411065)."
   ]
  },
  {
   "cell_type": "code",
   "execution_count": 59,
   "metadata": {},
   "outputs": [],
   "source": [
    "import numpy as np\n",
    "import matplotlib.pyplot as plt\n",
    "\n",
    "\n",
    "# Constants definition\n",
    "H = 1/np.sqrt(2) * np.matrix([\n",
    "    [1, 1],\n",
    "    [1, -1]\n",
    "])\n",
    "\n",
    "SPIN_UP = np.array([1, 0])\n",
    "SPIN_DOWN = np.array([0, 1])\n",
    "\n",
    "def hadamard_coin_qw(particle):\n",
    "    for position in range(-N, N+1):\n",
    "        particle[position] = H.dot(particle[position])\n",
    "    \n",
    "    new_particle = np.zeros((2*N+1, 2))\n",
    "    \n",
    "    for position in range(-N, N+1):\n",
    "        if particle[position][0] != 0:\n",
    "            new_particle[position+1][0] += particle[position][0]\n",
    "        if particle[position][1] != 0:\n",
    "            new_particle[position-1][1] += particle[position][1]\n",
    "    return new_particle"
   ]
  },
  {
   "cell_type": "code",
   "execution_count": 69,
   "metadata": {},
   "outputs": [],
   "source": [
    "# Initial conditions\n",
    "\n",
    "N = 80  # Number of steps\n",
    "\n",
    "C = H  # Coin operator\n",
    "\n",
    "particle = np.zeros((2*N+1, 2))\n",
    "particle[0] = SPIN_UP"
   ]
  },
  {
   "cell_type": "code",
   "execution_count": 70,
   "metadata": {},
   "outputs": [],
   "source": [
    "for t in range(N):\n",
    "    particle = hadamard_coin_qw(particle)\n",
    "\n",
    "prob_amplitudes = np.zeros(2*N+1)\n",
    "\n",
    "for position in range(-N, N+1):\n",
    "    c = particle[position]\n",
    "    prob_amplitudes[position] = abs(c.conj().dot(c))**2\n",
    "\n",
    "# Reorder the data\n",
    "prob_amplitudes = np.concatenate([prob_amplitudes[-N:], prob_amplitudes[0:N+1]])"
   ]
  },
  {
   "cell_type": "code",
   "execution_count": 71,
   "metadata": {},
   "outputs": [
    {
     "data": {
      "text/plain": [
       "[<matplotlib.lines.Line2D at 0x7f37cb4da4a8>]"
      ]
     },
     "execution_count": 71,
     "metadata": {},
     "output_type": "execute_result"
    },
    {
     "data": {
      "image/png": "[encoded data removed]",
      "text/plain": [
       "<Figure size 432x288 with 1 Axes>"
      ]
     },
     "metadata": {
      "needs_background": "light"
     },
     "output_type": "display_data"
    }
   ],
   "source": [
    "plt.plot(range(-N, N+1), prob_amplitudes)"
   ]
  }
 ],
 "metadata": {
  "kernelspec": {
   "display_name": "Python 3",
   "language": "python",
   "name": "python3"
  },
  "language_info": {
   "codemirror_mode": {
    "name": "ipython",
    "version": 3
   },
   "file_extension": ".py",
   "mimetype": "text/x-python",
   "name": "python",
   "nbconvert_exporter": "python",
   "pygments_lexer": "ipython3",
   "version": "3.6.7"
  }
 },
 "nbformat": 4,
 "nbformat_minor": 2
}
